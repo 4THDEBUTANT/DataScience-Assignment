{
  "nbformat": 4,
  "nbformat_minor": 0,
  "metadata": {
    "colab": {
      "provenance": [],
      "mount_file_id": "1WrBQxV-7WpSa8hBLDR3duEJRqmkSv3m0",
      "authorship_tag": "ABX9TyOiu8pp8wZv9ChBO8WbNwrx",
      "include_colab_link": true
    },
    "kernelspec": {
      "name": "python3",
      "display_name": "Python 3"
    },
    "language_info": {
      "name": "python"
    }
  },
  "cells": [
    {
      "cell_type": "markdown",
      "metadata": {
        "id": "view-in-github",
        "colab_type": "text"
      },
      "source": [
        "<a href=\"https://colab.research.google.com/github/4THDEBUTANT/DataScience-Assignment/blob/main/Road_accident_severity_linear_regression_model.ipynb\" target=\"_parent\"><img src=\"https://colab.research.google.com/assets/colab-badge.svg\" alt=\"Open In Colab\"/></a>"
      ]
    },
    {
      "cell_type": "code",
      "source": [
        "import pandas as pd\n",
        "from sklearn.model_selection import train_test_split\n",
        "from sklearn.linear_model import LinearRegression\n",
        "import pickle\n",
        "\n",
        "# Load and preprocess data\n",
        "data = pd.read_csv(\"road_accidents.csv\")\n",
        "data['Accident_severity'] = data['Accident_severity'].map({\n",
        "    \"Slight Injury\": 1, \"Serious Injury\": 2, \"Fatal Injury\": 3\n",
        "})\n",
        "\n",
        "# Drop rows where 'Accident_severity' is NaN\n",
        "data.dropna(subset=['Accident_severity'], inplace=True)\n",
        "\n",
        "\n",
        "\n",
        "\n",
        "X = data[[\n",
        "    'Time', 'Day_of_week', 'Age_band_of_driver', 'Sex_of_driver', 'Educational_level',\n",
        "    'Vehicle_driver_relation', 'Driving_experience', 'Type_of_vehicle', 'Owner_of_vehicle',\n",
        "    'Service_year_of_vehicle', 'Defect_of_vehicle', 'Area_accident_occured', 'Lanes_or_Medians',\n",
        "    'Road_allignment', 'Types_of_Junction', 'Road_surface_type', 'Road_surface_conditions',\n",
        "    'Light_conditions', 'Weather_conditions', 'Type_of_collision', 'Number_of_vehicles_involved',\n",
        "    'Number_of_casualties', 'Vehicle_movement', 'Cause_of_accident'\n",
        "]]\n",
        "y = data['Accident_severity']\n",
        "\n",
        "\n",
        "\n",
        "# Encode categorical variables\n",
        "X = pd.get_dummies(X, drop_first=True)\n",
        "\n",
        "# Drop rows with NaN values in `X` to ensure alignment with `y`\n",
        "X.dropna(inplace=True)\n",
        "y = y.loc[X.index]  # Ensure `y` is aligned with remaining `X` rows\n",
        "\n",
        "# Split data into train and test sets\n",
        "X_train, X_test, y_train, y_test = train_test_split(X, y, test_size=0.2, random_state=42)\n",
        "\n",
        "# Train the model\n",
        "model = LinearRegression()\n",
        "model.fit(X_train, y_train)\n",
        "\n",
        "# Save the model\n",
        "with open('accident_severity_model.pkl', 'wb') as file:\n",
        "    pickle.dump(model, file)"
      ],
      "metadata": {
        "id": "-0zdLp0NMusx"
      },
      "execution_count": 7,
      "outputs": []
    },
    {
      "cell_type": "code",
      "source": [
        "import pandas as pd\n",
        "import pickle\n",
        "\n",
        "# Load the saved model\n",
        "with open('accident_severity_model.pkl', 'rb') as file:\n",
        "    model = pickle.load(file)\n",
        "\n",
        "# Example input with values similar to the features used in training\n",
        "# Define a dictionary with keys as column names and values as sample data\n",
        "example_data = {\n",
        "    'Time': '12:00:00',                    # String time\n",
        "    'Day_of_week_Monday': 1,               # One-hot encoded day (1 is Monday)\n",
        "    'Day_of_week_Tuesday': 0,\n",
        "    'Age_band_of_driver_18-30': 1,         # Driver age range (1 if 18-30, else 0)\n",
        "    'Sex_of_driver_Male': 1,               # Driver gender (1 for male, 0 otherwise)\n",
        "    'Educational_level_Above_high_school': 1,\n",
        "    'Vehicle_driver_relation_Employee': 1,\n",
        "    'Driving_experience_1-2yr': 1,\n",
        "    'Type_of_vehicle_Automobile': 1,\n",
        "    'Owner_of_vehicle_Owner': 1,\n",
        "    'Service_year_of_vehicle_Above_10yr': 1,\n",
        "    'Defect_of_vehicle_No_defect': 1,\n",
        "    'Area_accident_occured_Residential': 1,\n",
        "    'Lanes_or_Medians_Undivided_Two_way': 0,\n",
        "    'Road_allignment_Tangent_road_with_flat_terrain': 1,\n",
        "    'Types_of_Junction_No_junction': 1,\n",
        "    'Road_surface_type_Asphalt_roads': 1,\n",
        "    'Road_surface_conditions_Dry': 1,\n",
        "    'Light_conditions_Daylight': 1,\n",
        "    'Weather_conditions_Normal': 1,\n",
        "    'Type_of_collision_Collision_with_parked_vehicle': 1,\n",
        "    'Number_of_vehicles_involved': 2,\n",
        "    'Number_of_casualties': 1,\n",
        "    'Vehicle_movement_Going_straight': 1,\n",
        "    'Cause_of_accident_Moving_Backward': 1,\n",
        "\n",
        "}\n",
        "\n",
        "# Convert the example dictionary to a DataFrame\n",
        "example_df = pd.DataFrame([example_data])\n",
        "\n",
        "# Align columns to have the same structure as `X` used in training\n",
        "example_df = example_df.reindex(columns=model.feature_names_in_, fill_value=0)\n",
        "\n",
        "# Predict accident severity\n",
        "predicted_severity = model.predict(example_df)\n",
        "print(f\"Predicted accident severity (1 = Slight Injury, 2 = Serious Injury, 3 = Fatal Injury): {predicted_severity[0]}\")"
      ],
      "metadata": {
        "colab": {
          "base_uri": "https://localhost:8080/"
        },
        "id": "tmYRhHmwM7w0",
        "outputId": "c66a7528-aba8-410a-d575-69a2ccb3d38e"
      },
      "execution_count": 9,
      "outputs": [
        {
          "output_type": "stream",
          "name": "stdout",
          "text": [
            "Predicted accident severity (1 = Slight Injury, 2 = Serious Injury, 3 = Fatal Injury): 1.2477020243574937\n"
          ]
        }
      ]
    }
  ]
}